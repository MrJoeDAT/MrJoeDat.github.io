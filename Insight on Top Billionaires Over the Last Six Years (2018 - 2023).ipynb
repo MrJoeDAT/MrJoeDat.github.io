{
 "cells": [
  {
   "cell_type": "markdown",
   "id": "e7184b23",
   "metadata": {
    "slideshow": {
     "slide_type": "slide"
    }
   },
   "source": [
    "<span style=\"color:green; font-family:Arial; font-size:30px\">Insight on Billionaire Wealth Distribution (2018 - 2023)</span>\n",
    "<div style=\"background-color:white\"></div>"
   ]
  },
  {
   "cell_type": "markdown",
   "id": "cb0c9256",
   "metadata": {
    "slideshow": {
     "slide_type": "fragment"
    }
   },
   "source": [
    "Dataset on [kaggle](https://www.kaggle.com/datasets/guillemservera/forbes-billionaires-1997-2023)."
   ]
  },
  {
   "cell_type": "markdown",
   "id": "02b266e9",
   "metadata": {
    "slideshow": {
     "slide_type": "fragment"
    }
   },
   "source": [
    "<img src=\"dataset-cover.png\" alt=\"Financial Chart\" width=\"300\" height=\"100\" style=\"float: left;\">"
   ]
  },
  {
   "cell_type": "markdown",
   "id": "661cd7d9",
   "metadata": {
    "slideshow": {
     "slide_type": "fragment"
    }
   },
   "source": [
    "---"
   ]
  },
  {
   "cell_type": "markdown",
   "id": "9d8745ec",
   "metadata": {
    "slideshow": {
     "slide_type": "slide"
    }
   },
   "source": [
    "# OVERVIEW"
   ]
  },
  {
   "cell_type": "code",
   "execution_count": 1,
   "id": "00275ad3",
   "metadata": {
    "slideshow": {
     "slide_type": "fragment"
    }
   },
   "outputs": [],
   "source": [
    "# Import libraries\n",
    "import pandas as pd\n",
    "import numpy as np\n",
    "import matplotlib.pyplot as plt\n",
    "import seaborn as sns"
   ]
  },
  {
   "cell_type": "markdown",
   "id": "c5c4a67b",
   "metadata": {
    "slideshow": {
     "slide_type": "fragment"
    }
   },
   "source": [
    "Imported necessary libraries\n",
    "\n",
    ">Two data sets are imported.<br>\n",
    "We'll be focusing mainly on the top 20 dataset since they both contain same thing, only difference is the number of billionaires.<br>\n",
    "The top 5 dataset will only be used in a few cases."
   ]
  },
  {
   "cell_type": "code",
   "execution_count": 2,
   "id": "876e8750",
   "metadata": {
    "slideshow": {
     "slide_type": "slide"
    }
   },
   "outputs": [
    {
     "data": {
      "text/html": [
       "<div>\n",
       "<style scoped>\n",
       "    .dataframe tbody tr th:only-of-type {\n",
       "        vertical-align: middle;\n",
       "    }\n",
       "\n",
       "    .dataframe tbody tr th {\n",
       "        vertical-align: top;\n",
       "    }\n",
       "\n",
       "    .dataframe thead th {\n",
       "        text-align: right;\n",
       "    }\n",
       "</style>\n",
       "<table border=\"1\" class=\"dataframe\">\n",
       "  <thead>\n",
       "    <tr style=\"text-align: right;\">\n",
       "      <th></th>\n",
       "      <th>year</th>\n",
       "      <th>rank</th>\n",
       "      <th>net_worth(billions)</th>\n",
       "      <th>full_name</th>\n",
       "      <th>birth_date</th>\n",
       "      <th>age</th>\n",
       "      <th>gender</th>\n",
       "      <th>country_of_citizenship</th>\n",
       "      <th>country_of_residence</th>\n",
       "      <th>city_of_residence</th>\n",
       "      <th>business_category</th>\n",
       "      <th>organization_name</th>\n",
       "      <th>position_in_organization</th>\n",
       "      <th>self_made</th>\n",
       "      <th>wealth_status</th>\n",
       "    </tr>\n",
       "  </thead>\n",
       "  <tbody>\n",
       "    <tr>\n",
       "      <th>0</th>\n",
       "      <td>2018</td>\n",
       "      <td>1</td>\n",
       "      <td>112.0</td>\n",
       "      <td>Jeff Bezos</td>\n",
       "      <td>12/01/1964</td>\n",
       "      <td>54</td>\n",
       "      <td>Male</td>\n",
       "      <td>United States</td>\n",
       "      <td>United States</td>\n",
       "      <td>Seattle</td>\n",
       "      <td>Technology</td>\n",
       "      <td>Amazon</td>\n",
       "      <td>Entrepreneur</td>\n",
       "      <td>True</td>\n",
       "      <td>Increased</td>\n",
       "    </tr>\n",
       "    <tr>\n",
       "      <th>1</th>\n",
       "      <td>2018</td>\n",
       "      <td>2</td>\n",
       "      <td>90.0</td>\n",
       "      <td>Bill Gates</td>\n",
       "      <td>28/10/1955</td>\n",
       "      <td>62</td>\n",
       "      <td>Male</td>\n",
       "      <td>United States</td>\n",
       "      <td>United States</td>\n",
       "      <td>Medina</td>\n",
       "      <td>Technology</td>\n",
       "      <td>Bill &amp; Melinda Gates Foundation</td>\n",
       "      <td>Cofounder</td>\n",
       "      <td>True</td>\n",
       "      <td>Increased</td>\n",
       "    </tr>\n",
       "    <tr>\n",
       "      <th>2</th>\n",
       "      <td>2018</td>\n",
       "      <td>3</td>\n",
       "      <td>84.0</td>\n",
       "      <td>Warren Buffett</td>\n",
       "      <td>30/08/1930</td>\n",
       "      <td>87</td>\n",
       "      <td>Male</td>\n",
       "      <td>United States</td>\n",
       "      <td>United States</td>\n",
       "      <td>Omaha</td>\n",
       "      <td>Finance &amp; Investments</td>\n",
       "      <td>Berkshire Hathaway Inc.</td>\n",
       "      <td>CEO</td>\n",
       "      <td>True</td>\n",
       "      <td>Increased</td>\n",
       "    </tr>\n",
       "    <tr>\n",
       "      <th>3</th>\n",
       "      <td>2018</td>\n",
       "      <td>4</td>\n",
       "      <td>72.0</td>\n",
       "      <td>Bernard Arnault &amp; family</td>\n",
       "      <td>05/03/1949</td>\n",
       "      <td>69</td>\n",
       "      <td>Male</td>\n",
       "      <td>France</td>\n",
       "      <td>France</td>\n",
       "      <td>Paris</td>\n",
       "      <td>Fashion &amp; Retail</td>\n",
       "      <td>LVMH Moet Hennessy Louis Vuitton</td>\n",
       "      <td>Chairman and CEO</td>\n",
       "      <td>False</td>\n",
       "      <td>Increased</td>\n",
       "    </tr>\n",
       "    <tr>\n",
       "      <th>4</th>\n",
       "      <td>2018</td>\n",
       "      <td>5</td>\n",
       "      <td>71.0</td>\n",
       "      <td>Mark Zuckerberg</td>\n",
       "      <td>14/05/1984</td>\n",
       "      <td>33</td>\n",
       "      <td>Male</td>\n",
       "      <td>United States</td>\n",
       "      <td>United States</td>\n",
       "      <td>Palo Alto</td>\n",
       "      <td>Technology</td>\n",
       "      <td>Facebook</td>\n",
       "      <td>Entrepreneur</td>\n",
       "      <td>True</td>\n",
       "      <td>Increased</td>\n",
       "    </tr>\n",
       "    <tr>\n",
       "      <th>5</th>\n",
       "      <td>2019</td>\n",
       "      <td>1</td>\n",
       "      <td>131.0</td>\n",
       "      <td>Jeff Bezos</td>\n",
       "      <td>12/01/1964</td>\n",
       "      <td>55</td>\n",
       "      <td>Male</td>\n",
       "      <td>United States</td>\n",
       "      <td>United States</td>\n",
       "      <td>Seattle</td>\n",
       "      <td>Technology</td>\n",
       "      <td>Amazon</td>\n",
       "      <td>Entrepreneur</td>\n",
       "      <td>True</td>\n",
       "      <td>Increased</td>\n",
       "    </tr>\n",
       "    <tr>\n",
       "      <th>6</th>\n",
       "      <td>2019</td>\n",
       "      <td>2</td>\n",
       "      <td>96.5</td>\n",
       "      <td>Bill Gates</td>\n",
       "      <td>28/10/1955</td>\n",
       "      <td>63</td>\n",
       "      <td>Male</td>\n",
       "      <td>United States</td>\n",
       "      <td>United States</td>\n",
       "      <td>Medina</td>\n",
       "      <td>Technology</td>\n",
       "      <td>Bill &amp; Melinda Gates Foundation</td>\n",
       "      <td>Cofounder</td>\n",
       "      <td>True</td>\n",
       "      <td>Increased</td>\n",
       "    </tr>\n",
       "    <tr>\n",
       "      <th>7</th>\n",
       "      <td>2019</td>\n",
       "      <td>3</td>\n",
       "      <td>82.5</td>\n",
       "      <td>Warren Buffett</td>\n",
       "      <td>30/08/1930</td>\n",
       "      <td>88</td>\n",
       "      <td>Male</td>\n",
       "      <td>United States</td>\n",
       "      <td>United States</td>\n",
       "      <td>Omaha</td>\n",
       "      <td>Finance &amp; Investments</td>\n",
       "      <td>Berkshire Hathaway Inc.</td>\n",
       "      <td>CEO</td>\n",
       "      <td>True</td>\n",
       "      <td>Decreased</td>\n",
       "    </tr>\n",
       "    <tr>\n",
       "      <th>8</th>\n",
       "      <td>2019</td>\n",
       "      <td>4</td>\n",
       "      <td>76.0</td>\n",
       "      <td>Bernard Arnault &amp; family</td>\n",
       "      <td>05/03/1949</td>\n",
       "      <td>70</td>\n",
       "      <td>Male</td>\n",
       "      <td>France</td>\n",
       "      <td>France</td>\n",
       "      <td>Paris</td>\n",
       "      <td>Fashion &amp; Retail</td>\n",
       "      <td>LVMH Moet Hennessy Louis Vuitton</td>\n",
       "      <td>Chairman and CEO</td>\n",
       "      <td>False</td>\n",
       "      <td>Increased</td>\n",
       "    </tr>\n",
       "    <tr>\n",
       "      <th>9</th>\n",
       "      <td>2019</td>\n",
       "      <td>5</td>\n",
       "      <td>64.0</td>\n",
       "      <td>Carlos Slim Helu &amp; family</td>\n",
       "      <td>28/01/1940</td>\n",
       "      <td>79</td>\n",
       "      <td>Male</td>\n",
       "      <td>Mexico</td>\n",
       "      <td>Mexico</td>\n",
       "      <td>Mexico City</td>\n",
       "      <td>Telecom</td>\n",
       "      <td>America Movil</td>\n",
       "      <td>Honorary Chairman</td>\n",
       "      <td>True</td>\n",
       "      <td>Decreased</td>\n",
       "    </tr>\n",
       "    <tr>\n",
       "      <th>10</th>\n",
       "      <td>2020</td>\n",
       "      <td>1</td>\n",
       "      <td>113.0</td>\n",
       "      <td>Jeff Bezos</td>\n",
       "      <td>12/01/1964</td>\n",
       "      <td>56</td>\n",
       "      <td>Male</td>\n",
       "      <td>United States</td>\n",
       "      <td>United States</td>\n",
       "      <td>Seattle</td>\n",
       "      <td>Technology</td>\n",
       "      <td>Amazon</td>\n",
       "      <td>Entrepreneur</td>\n",
       "      <td>True</td>\n",
       "      <td>Decreased</td>\n",
       "    </tr>\n",
       "    <tr>\n",
       "      <th>11</th>\n",
       "      <td>2020</td>\n",
       "      <td>2</td>\n",
       "      <td>98.0</td>\n",
       "      <td>Bill Gates</td>\n",
       "      <td>28/10/1955</td>\n",
       "      <td>64</td>\n",
       "      <td>Male</td>\n",
       "      <td>United States</td>\n",
       "      <td>United States</td>\n",
       "      <td>Medina</td>\n",
       "      <td>Technology</td>\n",
       "      <td>Bill &amp; Melinda Gates Foundation</td>\n",
       "      <td>Cofounder</td>\n",
       "      <td>True</td>\n",
       "      <td>Increased</td>\n",
       "    </tr>\n",
       "    <tr>\n",
       "      <th>12</th>\n",
       "      <td>2020</td>\n",
       "      <td>3</td>\n",
       "      <td>76.0</td>\n",
       "      <td>Bernard Arnault &amp; family</td>\n",
       "      <td>05/03/1949</td>\n",
       "      <td>71</td>\n",
       "      <td>Male</td>\n",
       "      <td>France</td>\n",
       "      <td>France</td>\n",
       "      <td>Paris</td>\n",
       "      <td>Fashion &amp; Retail</td>\n",
       "      <td>LVMH Moet Hennessy Louis Vuitton</td>\n",
       "      <td>Chairman and CEO</td>\n",
       "      <td>False</td>\n",
       "      <td>Remained Even</td>\n",
       "    </tr>\n",
       "    <tr>\n",
       "      <th>13</th>\n",
       "      <td>2020</td>\n",
       "      <td>4</td>\n",
       "      <td>67.5</td>\n",
       "      <td>Warren Buffett</td>\n",
       "      <td>30/08/1930</td>\n",
       "      <td>89</td>\n",
       "      <td>Male</td>\n",
       "      <td>United States</td>\n",
       "      <td>United States</td>\n",
       "      <td>Omaha</td>\n",
       "      <td>Finance &amp; Investments</td>\n",
       "      <td>Berkshire Hathaway Inc.</td>\n",
       "      <td>CEO</td>\n",
       "      <td>True</td>\n",
       "      <td>Decreased</td>\n",
       "    </tr>\n",
       "    <tr>\n",
       "      <th>14</th>\n",
       "      <td>2020</td>\n",
       "      <td>5</td>\n",
       "      <td>59.0</td>\n",
       "      <td>Larry Ellison</td>\n",
       "      <td>17/08/1944</td>\n",
       "      <td>75</td>\n",
       "      <td>Male</td>\n",
       "      <td>United States</td>\n",
       "      <td>United States</td>\n",
       "      <td>Woodside</td>\n",
       "      <td>Technology</td>\n",
       "      <td>Oracle Corp.</td>\n",
       "      <td>CTO and Founder</td>\n",
       "      <td>True</td>\n",
       "      <td>Decreased</td>\n",
       "    </tr>\n",
       "    <tr>\n",
       "      <th>15</th>\n",
       "      <td>2021</td>\n",
       "      <td>1</td>\n",
       "      <td>177.0</td>\n",
       "      <td>Jeff Bezos</td>\n",
       "      <td>12/01/1964</td>\n",
       "      <td>57</td>\n",
       "      <td>Male</td>\n",
       "      <td>United States</td>\n",
       "      <td>United States</td>\n",
       "      <td>Seattle</td>\n",
       "      <td>Technology</td>\n",
       "      <td>Amazon</td>\n",
       "      <td>Entrepreneur</td>\n",
       "      <td>True</td>\n",
       "      <td>Increased</td>\n",
       "    </tr>\n",
       "    <tr>\n",
       "      <th>16</th>\n",
       "      <td>2021</td>\n",
       "      <td>2</td>\n",
       "      <td>151.0</td>\n",
       "      <td>Elon Musk</td>\n",
       "      <td>28/06/1971</td>\n",
       "      <td>49</td>\n",
       "      <td>Male</td>\n",
       "      <td>United States</td>\n",
       "      <td>United States</td>\n",
       "      <td>Austin</td>\n",
       "      <td>Automotive</td>\n",
       "      <td>Tesla</td>\n",
       "      <td>Chairman and CEO</td>\n",
       "      <td>True</td>\n",
       "      <td>Increased</td>\n",
       "    </tr>\n",
       "    <tr>\n",
       "      <th>17</th>\n",
       "      <td>2021</td>\n",
       "      <td>3</td>\n",
       "      <td>150.0</td>\n",
       "      <td>Bernard Arnault &amp; family</td>\n",
       "      <td>05/03/1949</td>\n",
       "      <td>72</td>\n",
       "      <td>Male</td>\n",
       "      <td>France</td>\n",
       "      <td>France</td>\n",
       "      <td>Paris</td>\n",
       "      <td>Fashion &amp; Retail</td>\n",
       "      <td>LVMH Moet Hennessy Louis Vuitton</td>\n",
       "      <td>Chairman and CEO</td>\n",
       "      <td>False</td>\n",
       "      <td>Increased</td>\n",
       "    </tr>\n",
       "    <tr>\n",
       "      <th>18</th>\n",
       "      <td>2021</td>\n",
       "      <td>4</td>\n",
       "      <td>124.0</td>\n",
       "      <td>Bill Gates</td>\n",
       "      <td>28/10/1955</td>\n",
       "      <td>65</td>\n",
       "      <td>Male</td>\n",
       "      <td>United States</td>\n",
       "      <td>United States</td>\n",
       "      <td>Medina</td>\n",
       "      <td>Technology</td>\n",
       "      <td>Bill &amp; Melinda Gates Foundation</td>\n",
       "      <td>Cofounder</td>\n",
       "      <td>True</td>\n",
       "      <td>Increased</td>\n",
       "    </tr>\n",
       "    <tr>\n",
       "      <th>19</th>\n",
       "      <td>2021</td>\n",
       "      <td>5</td>\n",
       "      <td>97.0</td>\n",
       "      <td>Mark Zuckerberg</td>\n",
       "      <td>14/05/1984</td>\n",
       "      <td>36</td>\n",
       "      <td>Male</td>\n",
       "      <td>United States</td>\n",
       "      <td>United States</td>\n",
       "      <td>Palo Alto</td>\n",
       "      <td>Technology</td>\n",
       "      <td>Facebook</td>\n",
       "      <td>Entrepreneur</td>\n",
       "      <td>True</td>\n",
       "      <td>Increased</td>\n",
       "    </tr>\n",
       "    <tr>\n",
       "      <th>20</th>\n",
       "      <td>2022</td>\n",
       "      <td>1</td>\n",
       "      <td>219.0</td>\n",
       "      <td>Elon Musk</td>\n",
       "      <td>28/06/1971</td>\n",
       "      <td>50</td>\n",
       "      <td>Male</td>\n",
       "      <td>United States</td>\n",
       "      <td>United States</td>\n",
       "      <td>Austin</td>\n",
       "      <td>Automotive</td>\n",
       "      <td>Tesla</td>\n",
       "      <td>CEO</td>\n",
       "      <td>True</td>\n",
       "      <td>Increased</td>\n",
       "    </tr>\n",
       "    <tr>\n",
       "      <th>21</th>\n",
       "      <td>2022</td>\n",
       "      <td>2</td>\n",
       "      <td>171.0</td>\n",
       "      <td>Jeff Bezos</td>\n",
       "      <td>12/01/1964</td>\n",
       "      <td>58</td>\n",
       "      <td>Male</td>\n",
       "      <td>United States</td>\n",
       "      <td>United States</td>\n",
       "      <td>Seattle</td>\n",
       "      <td>Technology</td>\n",
       "      <td>Amazon</td>\n",
       "      <td>Founder and Chairman</td>\n",
       "      <td>True</td>\n",
       "      <td>Decreased</td>\n",
       "    </tr>\n",
       "    <tr>\n",
       "      <th>22</th>\n",
       "      <td>2022</td>\n",
       "      <td>3</td>\n",
       "      <td>158.0</td>\n",
       "      <td>Bernard Arnault &amp; family</td>\n",
       "      <td>05/03/1949</td>\n",
       "      <td>73</td>\n",
       "      <td>Male</td>\n",
       "      <td>France</td>\n",
       "      <td>France</td>\n",
       "      <td>Paris</td>\n",
       "      <td>Fashion &amp; Retail</td>\n",
       "      <td>LVMH Moet Hennessy Louis Vuitton</td>\n",
       "      <td>Chairman and CEO</td>\n",
       "      <td>False</td>\n",
       "      <td>Increased</td>\n",
       "    </tr>\n",
       "    <tr>\n",
       "      <th>23</th>\n",
       "      <td>2022</td>\n",
       "      <td>4</td>\n",
       "      <td>129.0</td>\n",
       "      <td>Bill Gates</td>\n",
       "      <td>28/10/1955</td>\n",
       "      <td>66</td>\n",
       "      <td>Male</td>\n",
       "      <td>United States</td>\n",
       "      <td>United States</td>\n",
       "      <td>Medina</td>\n",
       "      <td>Technology</td>\n",
       "      <td>Bill &amp; Melinda Gates Foundation</td>\n",
       "      <td>Cofounder</td>\n",
       "      <td>True</td>\n",
       "      <td>Increased</td>\n",
       "    </tr>\n",
       "    <tr>\n",
       "      <th>24</th>\n",
       "      <td>2022</td>\n",
       "      <td>5</td>\n",
       "      <td>118.0</td>\n",
       "      <td>Warren Buffett</td>\n",
       "      <td>30/08/1930</td>\n",
       "      <td>91</td>\n",
       "      <td>Male</td>\n",
       "      <td>United States</td>\n",
       "      <td>United States</td>\n",
       "      <td>Omaha</td>\n",
       "      <td>Finance &amp; Investments</td>\n",
       "      <td>Berkshire Hathaway Inc.</td>\n",
       "      <td>CEO</td>\n",
       "      <td>True</td>\n",
       "      <td>Increased</td>\n",
       "    </tr>\n",
       "    <tr>\n",
       "      <th>25</th>\n",
       "      <td>2023</td>\n",
       "      <td>1</td>\n",
       "      <td>211.0</td>\n",
       "      <td>Bernard Arnault &amp; family</td>\n",
       "      <td>05/03/1949</td>\n",
       "      <td>74</td>\n",
       "      <td>Male</td>\n",
       "      <td>France</td>\n",
       "      <td>France</td>\n",
       "      <td>Paris</td>\n",
       "      <td>Fashion &amp; Retail</td>\n",
       "      <td>LVMH Moet Hennessy Louis Vuitton</td>\n",
       "      <td>Chairman and CEO</td>\n",
       "      <td>False</td>\n",
       "      <td>Increased</td>\n",
       "    </tr>\n",
       "    <tr>\n",
       "      <th>26</th>\n",
       "      <td>2023</td>\n",
       "      <td>2</td>\n",
       "      <td>180.0</td>\n",
       "      <td>Elon Musk</td>\n",
       "      <td>28/06/1971</td>\n",
       "      <td>51</td>\n",
       "      <td>Male</td>\n",
       "      <td>United States</td>\n",
       "      <td>United States</td>\n",
       "      <td>Austin</td>\n",
       "      <td>Automotive</td>\n",
       "      <td>Tesla</td>\n",
       "      <td>CEO</td>\n",
       "      <td>True</td>\n",
       "      <td>Decreased</td>\n",
       "    </tr>\n",
       "    <tr>\n",
       "      <th>27</th>\n",
       "      <td>2023</td>\n",
       "      <td>3</td>\n",
       "      <td>114.0</td>\n",
       "      <td>Jeff Bezos</td>\n",
       "      <td>12/01/1964</td>\n",
       "      <td>59</td>\n",
       "      <td>Male</td>\n",
       "      <td>United States</td>\n",
       "      <td>United States</td>\n",
       "      <td>Medina</td>\n",
       "      <td>Technology</td>\n",
       "      <td>Amazon</td>\n",
       "      <td>Founder and Chairman</td>\n",
       "      <td>True</td>\n",
       "      <td>Decreased</td>\n",
       "    </tr>\n",
       "    <tr>\n",
       "      <th>28</th>\n",
       "      <td>2023</td>\n",
       "      <td>4</td>\n",
       "      <td>107.0</td>\n",
       "      <td>Larry Ellison</td>\n",
       "      <td>17/08/1944</td>\n",
       "      <td>78</td>\n",
       "      <td>Male</td>\n",
       "      <td>United States</td>\n",
       "      <td>United States</td>\n",
       "      <td>Lanai</td>\n",
       "      <td>Technology</td>\n",
       "      <td>Oracle Corp.</td>\n",
       "      <td>CTO and Founder</td>\n",
       "      <td>True</td>\n",
       "      <td>Increased</td>\n",
       "    </tr>\n",
       "    <tr>\n",
       "      <th>29</th>\n",
       "      <td>2023</td>\n",
       "      <td>5</td>\n",
       "      <td>106.0</td>\n",
       "      <td>Warren Buffett</td>\n",
       "      <td>30/08/1930</td>\n",
       "      <td>92</td>\n",
       "      <td>Male</td>\n",
       "      <td>United States</td>\n",
       "      <td>United States</td>\n",
       "      <td>Omaha</td>\n",
       "      <td>Finance &amp; Investments</td>\n",
       "      <td>Berkshire Hathaway Inc.</td>\n",
       "      <td>CEO</td>\n",
       "      <td>True</td>\n",
       "      <td>Decreased</td>\n",
       "    </tr>\n",
       "  </tbody>\n",
       "</table>\n",
       "</div>"
      ],
      "text/plain": [
       "    year  rank  net_worth(billions)                  full_name  birth_date  \\\n",
       "0   2018     1                112.0                 Jeff Bezos  12/01/1964   \n",
       "1   2018     2                 90.0                 Bill Gates  28/10/1955   \n",
       "2   2018     3                 84.0             Warren Buffett  30/08/1930   \n",
       "3   2018     4                 72.0   Bernard Arnault & family  05/03/1949   \n",
       "4   2018     5                 71.0            Mark Zuckerberg  14/05/1984   \n",
       "5   2019     1                131.0                 Jeff Bezos  12/01/1964   \n",
       "6   2019     2                 96.5                 Bill Gates  28/10/1955   \n",
       "7   2019     3                 82.5             Warren Buffett  30/08/1930   \n",
       "8   2019     4                 76.0   Bernard Arnault & family  05/03/1949   \n",
       "9   2019     5                 64.0  Carlos Slim Helu & family  28/01/1940   \n",
       "10  2020     1                113.0                 Jeff Bezos  12/01/1964   \n",
       "11  2020     2                 98.0                 Bill Gates  28/10/1955   \n",
       "12  2020     3                 76.0   Bernard Arnault & family  05/03/1949   \n",
       "13  2020     4                 67.5             Warren Buffett  30/08/1930   \n",
       "14  2020     5                 59.0              Larry Ellison  17/08/1944   \n",
       "15  2021     1                177.0                 Jeff Bezos  12/01/1964   \n",
       "16  2021     2                151.0                  Elon Musk  28/06/1971   \n",
       "17  2021     3                150.0   Bernard Arnault & family  05/03/1949   \n",
       "18  2021     4                124.0                 Bill Gates  28/10/1955   \n",
       "19  2021     5                 97.0            Mark Zuckerberg  14/05/1984   \n",
       "20  2022     1                219.0                  Elon Musk  28/06/1971   \n",
       "21  2022     2                171.0                 Jeff Bezos  12/01/1964   \n",
       "22  2022     3                158.0   Bernard Arnault & family  05/03/1949   \n",
       "23  2022     4                129.0                 Bill Gates  28/10/1955   \n",
       "24  2022     5                118.0             Warren Buffett  30/08/1930   \n",
       "25  2023     1                211.0   Bernard Arnault & family  05/03/1949   \n",
       "26  2023     2                180.0                  Elon Musk  28/06/1971   \n",
       "27  2023     3                114.0                 Jeff Bezos  12/01/1964   \n",
       "28  2023     4                107.0              Larry Ellison  17/08/1944   \n",
       "29  2023     5                106.0             Warren Buffett  30/08/1930   \n",
       "\n",
       "    age gender country_of_citizenship country_of_residence city_of_residence  \\\n",
       "0    54   Male          United States        United States           Seattle   \n",
       "1    62   Male          United States        United States            Medina   \n",
       "2    87   Male          United States        United States             Omaha   \n",
       "3    69   Male                 France               France             Paris   \n",
       "4    33   Male          United States        United States         Palo Alto   \n",
       "5    55   Male          United States        United States           Seattle   \n",
       "6    63   Male          United States        United States            Medina   \n",
       "7    88   Male          United States        United States             Omaha   \n",
       "8    70   Male                 France               France             Paris   \n",
       "9    79   Male                 Mexico               Mexico       Mexico City   \n",
       "10   56   Male          United States        United States           Seattle   \n",
       "11   64   Male          United States        United States            Medina   \n",
       "12   71   Male                 France               France             Paris   \n",
       "13   89   Male          United States        United States             Omaha   \n",
       "14   75   Male          United States        United States          Woodside   \n",
       "15   57   Male          United States        United States           Seattle   \n",
       "16   49   Male          United States        United States            Austin   \n",
       "17   72   Male                 France               France             Paris   \n",
       "18   65   Male          United States        United States            Medina   \n",
       "19   36   Male          United States        United States         Palo Alto   \n",
       "20   50   Male          United States        United States            Austin   \n",
       "21   58   Male          United States        United States           Seattle   \n",
       "22   73   Male                 France               France             Paris   \n",
       "23   66   Male          United States        United States            Medina   \n",
       "24   91   Male          United States        United States             Omaha   \n",
       "25   74   Male                 France               France             Paris   \n",
       "26   51   Male          United States        United States            Austin   \n",
       "27   59   Male          United States        United States            Medina   \n",
       "28   78   Male          United States        United States             Lanai   \n",
       "29   92   Male          United States        United States             Omaha   \n",
       "\n",
       "        business_category                 organization_name  \\\n",
       "0              Technology                            Amazon   \n",
       "1              Technology   Bill & Melinda Gates Foundation   \n",
       "2   Finance & Investments           Berkshire Hathaway Inc.   \n",
       "3        Fashion & Retail  LVMH Moet Hennessy Louis Vuitton   \n",
       "4              Technology                          Facebook   \n",
       "5              Technology                            Amazon   \n",
       "6              Technology   Bill & Melinda Gates Foundation   \n",
       "7   Finance & Investments           Berkshire Hathaway Inc.   \n",
       "8        Fashion & Retail  LVMH Moet Hennessy Louis Vuitton   \n",
       "9                 Telecom                     America Movil   \n",
       "10             Technology                            Amazon   \n",
       "11             Technology   Bill & Melinda Gates Foundation   \n",
       "12       Fashion & Retail  LVMH Moet Hennessy Louis Vuitton   \n",
       "13  Finance & Investments           Berkshire Hathaway Inc.   \n",
       "14             Technology                      Oracle Corp.   \n",
       "15             Technology                            Amazon   \n",
       "16             Automotive                             Tesla   \n",
       "17       Fashion & Retail  LVMH Moet Hennessy Louis Vuitton   \n",
       "18             Technology   Bill & Melinda Gates Foundation   \n",
       "19             Technology                          Facebook   \n",
       "20             Automotive                             Tesla   \n",
       "21             Technology                            Amazon   \n",
       "22       Fashion & Retail  LVMH Moet Hennessy Louis Vuitton   \n",
       "23             Technology   Bill & Melinda Gates Foundation   \n",
       "24  Finance & Investments           Berkshire Hathaway Inc.   \n",
       "25       Fashion & Retail  LVMH Moet Hennessy Louis Vuitton   \n",
       "26             Automotive                             Tesla   \n",
       "27             Technology                            Amazon   \n",
       "28             Technology                      Oracle Corp.   \n",
       "29  Finance & Investments           Berkshire Hathaway Inc.   \n",
       "\n",
       "   position_in_organization  self_made  wealth_status  \n",
       "0              Entrepreneur       True      Increased  \n",
       "1                 Cofounder       True      Increased  \n",
       "2                       CEO       True      Increased  \n",
       "3          Chairman and CEO      False      Increased  \n",
       "4              Entrepreneur       True      Increased  \n",
       "5              Entrepreneur       True      Increased  \n",
       "6                 Cofounder       True      Increased  \n",
       "7                       CEO       True      Decreased  \n",
       "8          Chairman and CEO      False      Increased  \n",
       "9         Honorary Chairman       True      Decreased  \n",
       "10             Entrepreneur       True      Decreased  \n",
       "11                Cofounder       True      Increased  \n",
       "12         Chairman and CEO      False  Remained Even  \n",
       "13                      CEO       True      Decreased  \n",
       "14          CTO and Founder       True      Decreased  \n",
       "15             Entrepreneur       True      Increased  \n",
       "16         Chairman and CEO       True      Increased  \n",
       "17         Chairman and CEO      False      Increased  \n",
       "18                Cofounder       True      Increased  \n",
       "19             Entrepreneur       True      Increased  \n",
       "20                      CEO       True      Increased  \n",
       "21     Founder and Chairman       True      Decreased  \n",
       "22         Chairman and CEO      False      Increased  \n",
       "23                Cofounder       True      Increased  \n",
       "24                      CEO       True      Increased  \n",
       "25         Chairman and CEO      False      Increased  \n",
       "26                      CEO       True      Decreased  \n",
       "27     Founder and Chairman       True      Decreased  \n",
       "28          CTO and Founder       True      Increased  \n",
       "29                      CEO       True      Decreased  "
      ]
     },
     "execution_count": 2,
     "metadata": {},
     "output_type": "execute_result"
    }
   ],
   "source": [
    "# Load the dataset into a pandas dataframe\n",
    "df = pd.read_csv(r'C:\\Users\\Mhizta Joe\\Desktop\\New folder\\LinkedIN\\Project\\Files\\New folder\\top_20_billionaires__2018-2023.csv')\n",
    "df2 = pd.read_csv(r'C:\\Users\\Mhizta Joe\\Desktop\\New folder\\LinkedIN\\Project\\Files\\New folder\\top_5_billionaires__2018-2023.csv')\n",
    "df2.head(30)"
   ]
  },
  {
   "cell_type": "markdown",
   "id": "b1dc7ea3",
   "metadata": {
    "slideshow": {
     "slide_type": "slide"
    }
   },
   "source": [
    "Two datasets are imported\n",
    "\n",
    "-  **df** contains dataset for top 20 billionaires from 2018 to 2023.<br>\n",
    "-  **df2** contains dataset for top 5 billionaires from 2018 to 2023.<br><br>\n",
    "\n",
    "**Data Cleaning was done on Excel**"
   ]
  },
  {
   "cell_type": "code",
   "execution_count": 3,
   "id": "00c72bad",
   "metadata": {
    "scrolled": false,
    "slideshow": {
     "slide_type": "slide"
    }
   },
   "outputs": [
    {
     "data": {
      "text/plain": [
       "1     6\n",
       "2     6\n",
       "19    6\n",
       "18    6\n",
       "17    6\n",
       "16    6\n",
       "15    6\n",
       "14    6\n",
       "13    6\n",
       "12    6\n",
       "11    6\n",
       "10    6\n",
       "9     6\n",
       "8     6\n",
       "7     6\n",
       "6     6\n",
       "5     6\n",
       "4     6\n",
       "3     6\n",
       "20    6\n",
       "Name: rank, dtype: int64"
      ]
     },
     "execution_count": 3,
     "metadata": {},
     "output_type": "execute_result"
    }
   ],
   "source": [
    "df['rank'].value_counts()"
   ]
  },
  {
   "cell_type": "markdown",
   "id": "04495cc2",
   "metadata": {
    "slideshow": {
     "slide_type": "subslide"
    }
   },
   "source": [
    "This shows that there are six years (2018 - 2023) and each year has 20 billionaires which are the top 20 billionaires over the years"
   ]
  },
  {
   "cell_type": "code",
   "execution_count": 4,
   "id": "101c87da",
   "metadata": {
    "slideshow": {
     "slide_type": "slide"
    }
   },
   "outputs": [
    {
     "data": {
      "text/plain": [
       "(120, 15)"
      ]
     },
     "execution_count": 4,
     "metadata": {},
     "output_type": "execute_result"
    }
   ],
   "source": [
    "df.shape"
   ]
  },
  {
   "cell_type": "markdown",
   "id": "38e175b0",
   "metadata": {
    "slideshow": {
     "slide_type": "fragment"
    }
   },
   "source": [
    "There are 120 rows and 15 columns in the **df** dataset<br>\n",
    "20 billionaires * 6 years = 120."
   ]
  },
  {
   "cell_type": "code",
   "execution_count": 5,
   "id": "e69fdc0e",
   "metadata": {
    "slideshow": {
     "slide_type": "slide"
    }
   },
   "outputs": [
    {
     "data": {
      "text/html": [
       "<div>\n",
       "<style scoped>\n",
       "    .dataframe tbody tr th:only-of-type {\n",
       "        vertical-align: middle;\n",
       "    }\n",
       "\n",
       "    .dataframe tbody tr th {\n",
       "        vertical-align: top;\n",
       "    }\n",
       "\n",
       "    .dataframe thead th {\n",
       "        text-align: right;\n",
       "    }\n",
       "</style>\n",
       "<table border=\"1\" class=\"dataframe\">\n",
       "  <thead>\n",
       "    <tr style=\"text-align: right;\">\n",
       "      <th></th>\n",
       "      <th>year</th>\n",
       "      <th>rank</th>\n",
       "      <th>net_worth(billions)</th>\n",
       "      <th>age</th>\n",
       "    </tr>\n",
       "  </thead>\n",
       "  <tbody>\n",
       "    <tr>\n",
       "      <th>count</th>\n",
       "      <td>120.000000</td>\n",
       "      <td>120.000000</td>\n",
       "      <td>120.000000</td>\n",
       "      <td>120.000000</td>\n",
       "    </tr>\n",
       "    <tr>\n",
       "      <th>mean</th>\n",
       "      <td>2020.500000</td>\n",
       "      <td>10.500000</td>\n",
       "      <td>76.933333</td>\n",
       "      <td>66.008333</td>\n",
       "    </tr>\n",
       "    <tr>\n",
       "      <th>std</th>\n",
       "      <td>1.714986</td>\n",
       "      <td>5.790459</td>\n",
       "      <td>35.210375</td>\n",
       "      <td>14.260774</td>\n",
       "    </tr>\n",
       "    <tr>\n",
       "      <th>min</th>\n",
       "      <td>2018.000000</td>\n",
       "      <td>1.000000</td>\n",
       "      <td>38.100000</td>\n",
       "      <td>33.000000</td>\n",
       "    </tr>\n",
       "    <tr>\n",
       "      <th>25%</th>\n",
       "      <td>2019.000000</td>\n",
       "      <td>5.750000</td>\n",
       "      <td>52.550000</td>\n",
       "      <td>55.750000</td>\n",
       "    </tr>\n",
       "    <tr>\n",
       "      <th>50%</th>\n",
       "      <td>2020.500000</td>\n",
       "      <td>10.500000</td>\n",
       "      <td>66.000000</td>\n",
       "      <td>68.000000</td>\n",
       "    </tr>\n",
       "    <tr>\n",
       "      <th>75%</th>\n",
       "      <td>2022.000000</td>\n",
       "      <td>15.250000</td>\n",
       "      <td>90.875000</td>\n",
       "      <td>77.000000</td>\n",
       "    </tr>\n",
       "    <tr>\n",
       "      <th>max</th>\n",
       "      <td>2023.000000</td>\n",
       "      <td>20.000000</td>\n",
       "      <td>219.000000</td>\n",
       "      <td>92.000000</td>\n",
       "    </tr>\n",
       "  </tbody>\n",
       "</table>\n",
       "</div>"
      ],
      "text/plain": [
       "              year        rank  net_worth(billions)         age\n",
       "count   120.000000  120.000000           120.000000  120.000000\n",
       "mean   2020.500000   10.500000            76.933333   66.008333\n",
       "std       1.714986    5.790459            35.210375   14.260774\n",
       "min    2018.000000    1.000000            38.100000   33.000000\n",
       "25%    2019.000000    5.750000            52.550000   55.750000\n",
       "50%    2020.500000   10.500000            66.000000   68.000000\n",
       "75%    2022.000000   15.250000            90.875000   77.000000\n",
       "max    2023.000000   20.000000           219.000000   92.000000"
      ]
     },
     "execution_count": 5,
     "metadata": {},
     "output_type": "execute_result"
    }
   ],
   "source": [
    "df.describe()"
   ]
  },
  {
   "cell_type": "markdown",
   "id": "4d5a9648",
   "metadata": {
    "slideshow": {
     "slide_type": "subslide"
    }
   },
   "source": [
    "This shows brief statistics of the dataset:\n",
    "    \n",
    "- The count shows there are 120 rows.\n",
    "- The mean depicts the average year, rank, net worth and age over the six years.\n",
    "- The average networth is almost 77 billion.\n",
    "- The average age of the billionaires is 66, this shows that most of them started making serious cash at an old age.\n",
    "- Out of the top 20, the youngest billionaire's age so far is 33 and the smallest net worth is 38 billion.\n",
    "- We can also take note of some of the middle values.\n",
    "- Out of the top 20, the oldest billionaire's age so far is 92 and the highest net worth is 219 billion."
   ]
  },
  {
   "cell_type": "code",
   "execution_count": 6,
   "id": "06fead70",
   "metadata": {
    "slideshow": {
     "slide_type": "slide"
    }
   },
   "outputs": [
    {
     "name": "stdout",
     "output_type": "stream",
     "text": [
      "<class 'pandas.core.frame.DataFrame'>\n",
      "RangeIndex: 120 entries, 0 to 119\n",
      "Data columns (total 15 columns):\n",
      " #   Column                    Non-Null Count  Dtype  \n",
      "---  ------                    --------------  -----  \n",
      " 0   year                      120 non-null    int64  \n",
      " 1   rank                      120 non-null    int64  \n",
      " 2   net_worth(billions)       120 non-null    float64\n",
      " 3   full_name                 120 non-null    object \n",
      " 4   birth_date                120 non-null    object \n",
      " 5   age                       120 non-null    int64  \n",
      " 6   gender                    120 non-null    object \n",
      " 7   country_of_citizenship    120 non-null    object \n",
      " 8   country_of_residence      120 non-null    object \n",
      " 9   city_of_residence         120 non-null    object \n",
      " 10  business_category         120 non-null    object \n",
      " 11  organization_name         120 non-null    object \n",
      " 12  position_in_organization  120 non-null    object \n",
      " 13  self_made                 120 non-null    bool   \n",
      " 14  wealth_status             120 non-null    object \n",
      "dtypes: bool(1), float64(1), int64(3), object(10)\n",
      "memory usage: 13.4+ KB\n"
     ]
    }
   ],
   "source": [
    "df.info()"
   ]
  },
  {
   "cell_type": "markdown",
   "id": "dfdbc16f",
   "metadata": {
    "slideshow": {
     "slide_type": "subslide"
    }
   },
   "source": [
    "More information on the dataset, like the name and datatype of each columns.<br><br>\n",
    "Most columns are object, int and float.<br>\n",
    "The only column standing out is the **self_made** column which has boolean data type. This means the value is either TRUE or FALSE."
   ]
  },
  {
   "cell_type": "code",
   "execution_count": 7,
   "id": "b0b20cc1",
   "metadata": {
    "slideshow": {
     "slide_type": "slide"
    }
   },
   "outputs": [
    {
     "data": {
      "text/plain": [
       "year                        0\n",
       "rank                        0\n",
       "net_worth(billions)         0\n",
       "full_name                   0\n",
       "birth_date                  0\n",
       "age                         0\n",
       "gender                      0\n",
       "country_of_citizenship      0\n",
       "country_of_residence        0\n",
       "city_of_residence           0\n",
       "business_category           0\n",
       "organization_name           0\n",
       "position_in_organization    0\n",
       "self_made                   0\n",
       "wealth_status               0\n",
       "dtype: int64"
      ]
     },
     "execution_count": 7,
     "metadata": {},
     "output_type": "execute_result"
    }
   ],
   "source": [
    "df.isnull().sum()"
   ]
  },
  {
   "cell_type": "markdown",
   "id": "5736fe6c",
   "metadata": {
    "slideshow": {
     "slide_type": "subslide"
    }
   },
   "source": [
    "Checked if their are any null values<br>\n",
    "There are none"
   ]
  },
  {
   "cell_type": "code",
   "execution_count": 8,
   "id": "e3d2bac0",
   "metadata": {
    "slideshow": {
     "slide_type": "slide"
    }
   },
   "outputs": [
    {
     "name": "stdout",
     "output_type": "stream",
     "text": [
      "                                full_name  net_worth(billions)\n",
      "0                              Jeff Bezos                818.0\n",
      "1                Bernard Arnault & family                743.0\n",
      "2                              Bill Gates                641.5\n",
      "3                          Warren Buffett                554.0\n",
      "4                               Elon Musk                550.0\n",
      "5                           Larry Ellison                486.0\n",
      "6                              Larry Page                432.2\n",
      "7               Carlos Slim Helu & family                420.2\n",
      "8                             Sergey Brin                418.4\n",
      "9                         Mark Zuckerberg                416.7\n",
      "10                      Michael Bloomberg                389.0\n",
      "11  Francoise Bettencourt Meyers & family                369.3\n",
      "12                          Mukesh Ambani                348.7\n",
      "13                         Amancio Ortega                342.1\n",
      "14                          Steve Ballmer                334.7\n",
      "15                             Jim Walton                330.8\n",
      "16                             Rob Walton                326.7\n",
      "17                           Alice Walton                271.9\n",
      "18                           Charles Koch                207.7\n",
      "19                         Zhong Shanshan                202.6\n",
      "20                             Ma Huateng                188.0\n",
      "21                             David Koch                110.5\n",
      "22                    Julia Koch & family                 97.2\n",
      "23                           Gautam Adani                 90.0\n",
      "24                                Jack Ma                 77.8\n",
      "25                         Changpeng Zhao                 65.0\n"
     ]
    }
   ],
   "source": [
    "# Remove the 'B' character from the net worth values and convert them to floats\n",
    "# df['net_worth'] = df['net_worth'].str.replace(' B', '').astype(float)\n",
    "\n",
    "# Group the dataframe by name, summing the net worth of people with the same name\n",
    "df_grouped = df.groupby('full_name').sum()\n",
    "\n",
    "# Sort the grouped dataframe by net worth in descending order\n",
    "df_sorted = df_grouped.sort_values(by='net_worth(billions)', ascending = False)\n",
    "\n",
    "# Reset the index of the sorted dataframe\n",
    "df_sorted.reset_index(inplace = True)\n",
    "\n",
    "# Print the sorted dataframe\n",
    "print(df_sorted[['full_name', 'net_worth(billions)']])"
   ]
  },
  {
   "cell_type": "markdown",
   "id": "35d00ad4",
   "metadata": {
    "slideshow": {
     "slide_type": "subslide"
    }
   },
   "source": [
    "This shows the total net worth of each billionaires over the past six years.<br><br>\n",
    "**Jeff Bezos** is topping the list so far.\n",
    "Another thing to note is there are **26** billionaires in the dataset. This is because some billionaires dropped out of the list over the years and new billionaires like **Elon Musk** came into the picture."
   ]
  },
  {
   "cell_type": "code",
   "execution_count": 9,
   "id": "b5614351",
   "metadata": {
    "slideshow": {
     "slide_type": "skip"
    }
   },
   "outputs": [],
   "source": [
    "# Visualize the Data\n",
    "#plt.figure(figsize=(10,6))\n",
    "#sns.histplot(df['net_worth(billions)'], bins = 20, kde = True)\n",
    "#plt.title('Distribution of Net Worth')\n",
    "#plt.xlabel('Net Worth')\n",
    "#plt.ylabel('Frequency')\n",
    "#plt.show()"
   ]
  },
  {
   "cell_type": "code",
   "execution_count": 10,
   "id": "6114a1a2",
   "metadata": {
    "slideshow": {
     "slide_type": "slide"
    }
   },
   "outputs": [
    {
     "data": {
      "image/png": "[encoded data removed]",
      "text/plain": [
       "<Figure size 720x432 with 1 Axes>"
      ]
     },
     "metadata": {
      "needs_background": "light"
     },
     "output_type": "display_data"
    }
   ],
   "source": [
    "# Explore Trends Over Time\n",
    "plt.figure(figsize = (10, 6))\n",
    "sns.lineplot(data = df2, x = 'year', y = 'net_worth(billions)', hue = 'full_name')\n",
    "plt.title('Net Worth of Top Billionaires Over Time')\n",
    "plt.xlabel('Year')\n",
    "plt.ylabel('Net Worth')\n",
    "plt.legend(bbox_to_anchor = (1.05, 1), loc = 'upper left')\n",
    "plt.show()"
   ]
  },
  {
   "cell_type": "markdown",
   "id": "4f662bad",
   "metadata": {
    "slideshow": {
     "slide_type": "subslide"
    }
   },
   "source": [
    "From this plot, we can see **Bernard Arnault & Family** at the top of the list in 2023 with net worth of 211 billion.<br>\n",
    "Tracing the red line back to 2018, we can see that they were on number four on the list with 72 billion and they gradually built their way to the top.<br>\n",
    "Another interesting observation is **Elon Musk**, he came out of nowhere and was second on the list in 2021. In 2022, he was the richest man in the world with the highest net worth so far of 219 billion.<br>\n",
    "Elon Musk is still considered the richest man in the world due to the fact that Bernard Arnault & Family net worth is a combined net worth of more than one person."
   ]
  },
  {
   "cell_type": "code",
   "execution_count": 11,
   "id": "0a36c5bb",
   "metadata": {
    "slideshow": {
     "slide_type": "slide"
    }
   },
   "outputs": [
    {
     "data": {
      "image/png": "[encoded data removed]",
      "text/plain": [
       "<Figure size 720x432 with 1 Axes>"
      ]
     },
     "metadata": {
      "needs_background": "light"
     },
     "output_type": "display_data"
    }
   ],
   "source": [
    "# Identify Outliers\n",
    "plt.figure(figsize = (10, 6))\n",
    "sns.boxplot(data = df, x = 'year', y = 'net_worth(billions)')\n",
    "plt.title('Net Worth Distribution by Year')\n",
    "plt.xlabel('Year')\n",
    "plt.ylabel('Net Worth')\n",
    "plt.show()"
   ]
  },
  {
   "cell_type": "markdown",
   "id": "477db391",
   "metadata": {
    "slideshow": {
     "slide_type": "subslide"
    }
   },
   "source": [
    "This boxplot shows outliers in net worth over the years.<br>\n",
    "The outliers are net worth that sticks out compared to the rest.<br>\n",
    "Each year has one or more outliers, we can observe 2018 and 2022 which have one outlier each.<br>\n",
    "2018 outlier is **Jeff Bezos's** 112 billion, while 2022 outlier is **Elon Musk's** 219 billion."
   ]
  },
  {
   "cell_type": "code",
   "execution_count": 12,
   "id": "95d859d3",
   "metadata": {
    "slideshow": {
     "slide_type": "skip"
    }
   },
   "outputs": [],
   "source": [
    "# Correlation Analysis\n",
    "#correlation_matrix = df.corr()\n",
    "#sns.heatmap(correlation_matrix, annot = True, cmap = 'coolwarm')\n",
    "#plt.title('Correlation Matrix')\n",
    "#plt.show()"
   ]
  },
  {
   "cell_type": "code",
   "execution_count": 13,
   "id": "1cc1be94",
   "metadata": {
    "slideshow": {
     "slide_type": "skip"
    }
   },
   "outputs": [
    {
     "data": {
      "text/plain": [
       "Jeff Bezos                               6\n",
       "Larry Ellison                            6\n",
       "Francoise Bettencourt Meyers & family    6\n",
       "Rob Walton                               6\n",
       "Bill Gates                               6\n",
       "Sergey Brin                              6\n",
       "Larry Page                               6\n",
       "Michael Bloomberg                        6\n",
       "Jim Walton                               6\n",
       "Warren Buffett                           6\n",
       "Carlos Slim Helu & family                6\n",
       "Mark Zuckerberg                          6\n",
       "Bernard Arnault & family                 6\n",
       "Amancio Ortega                           5\n",
       "Alice Walton                             5\n",
       "Mukesh Ambani                            5\n",
       "Steve Ballmer                            5\n",
       "Ma Huateng                               4\n",
       "Charles Koch                             4\n",
       "Elon Musk                                3\n",
       "Zhong Shanshan                           3\n",
       "David Koch                               2\n",
       "Julia Koch & family                      2\n",
       "Jack Ma                                  2\n",
       "Gautam Adani                             1\n",
       "Changpeng Zhao                           1\n",
       "Name: full_name, dtype: int64"
      ]
     },
     "execution_count": 13,
     "metadata": {},
     "output_type": "execute_result"
    }
   ],
   "source": [
    "# Display each occurrence of 'full_name'\n",
    "df['full_name'].value_counts()"
   ]
  },
  {
   "cell_type": "markdown",
   "id": "29536c76",
   "metadata": {
    "slideshow": {
     "slide_type": "skip"
    }
   },
   "source": [
    "This is done to check how many time each billionaire's name occurred in the dataset.<br>\n",
    "This will show us billionaires that have been part of the top 5 since 2018 and those that came out of nowhere like **Elon Musk.**<br>\n",
    "Billionaires from **Jeff Bezos** which is on top of this short list, down to **Bernard Arnault & Family** have been part of the top five since 2018."
   ]
  },
  {
   "cell_type": "code",
   "execution_count": 14,
   "id": "1ee3172d",
   "metadata": {
    "slideshow": {
     "slide_type": "skip"
    }
   },
   "outputs": [
    {
     "data": {
      "text/plain": [
       "Jeff Bezos                               1\n",
       "Bill Gates                               1\n",
       "Gautam Adani                             1\n",
       "Zhong Shanshan                           1\n",
       "Elon Musk                                1\n",
       "Julia Koch & family                      1\n",
       "Steve Ballmer                            1\n",
       "Jack Ma                                  1\n",
       "Mukesh Ambani                            1\n",
       "Francoise Bettencourt Meyers & family    1\n",
       "Ma Huateng                               1\n",
       "Alice Walton                             1\n",
       "Rob Walton                               1\n",
       "Jim Walton                               1\n",
       "Sergey Brin                              1\n",
       "Larry Page                               1\n",
       "Michael Bloomberg                        1\n",
       "Larry Ellison                            1\n",
       "David Koch                               1\n",
       "Charles Koch                             1\n",
       "Carlos Slim Helu & family                1\n",
       "Amancio Ortega                           1\n",
       "Mark Zuckerberg                          1\n",
       "Bernard Arnault & family                 1\n",
       "Warren Buffett                           1\n",
       "Changpeng Zhao                           1\n",
       "Name: full_name, dtype: int64"
      ]
     },
     "execution_count": 14,
     "metadata": {},
     "output_type": "execute_result"
    }
   ],
   "source": [
    "# Remove duplicates from the 'full_name' column\n",
    "df_unique_names = df.drop_duplicates(subset='full_name')\n",
    "df_unique_names['full_name'].value_counts()"
   ]
  },
  {
   "cell_type": "markdown",
   "id": "bd27785a",
   "metadata": {},
   "source": [
    "Some duplicate names are removed and the result is stored in **df_unique_names** for subsequent analysis."
   ]
  },
  {
   "cell_type": "code",
   "execution_count": 34,
   "id": "aeb142af",
   "metadata": {
    "slideshow": {
     "slide_type": "slide"
    }
   },
   "outputs": [
    {
     "data": {
      "image/png": "[encoded data removed]",
      "text/plain": [
       "<Figure size 720x432 with 1 Axes>"
      ]
     },
     "metadata": {
      "needs_background": "light"
     },
     "output_type": "display_data"
    }
   ],
   "source": [
    "# Geographical Analysis: Distribution of Billionaires by Country of Residence\n",
    "citizenship_counts = df_unique_names['country_of_residence'].value_counts()\n",
    "citizenship_counts.plot(kind = 'bar', figsize = (10, 6))\n",
    "plt.title('Number of Billionaires by Country of Residence')\n",
    "plt.xlabel('Country')\n",
    "plt.ylabel('Number of Billionaires')\n",
    "plt.show()"
   ]
  },
  {
   "cell_type": "markdown",
   "id": "a791d290",
   "metadata": {
    "slideshow": {
     "slide_type": "subslide"
    }
   },
   "source": [
    "Geographical analysis that shows the distribution of billionaires by country of residence.<br><br>\n",
    "Out of 26 billionaires, 16 billionaires are residents of the **United States**.<br>\n",
    "The combination of the rest doesnt even measure up to half of the residents of U.S."
   ]
  },
  {
   "cell_type": "code",
   "execution_count": 16,
   "id": "4f208ede",
   "metadata": {
    "slideshow": {
     "slide_type": "slide"
    }
   },
   "outputs": [
    {
     "data": {
      "text/plain": [
       "United States           16\n",
       "China                    3\n",
       "France                   2\n",
       "India                    2\n",
       "Spain                    1\n",
       "Mexico                   1\n",
       "United Arab Emirates     1\n",
       "Name: country_of_residence, dtype: int64"
      ]
     },
     "execution_count": 16,
     "metadata": {},
     "output_type": "execute_result"
    }
   ],
   "source": [
    "df_unique_names['country_of_residence'].value_counts()"
   ]
  },
  {
   "cell_type": "markdown",
   "id": "98950392",
   "metadata": {
    "slideshow": {
     "slide_type": "fragment"
    }
   },
   "source": [
    "This shows shows the numbers of the previous chart."
   ]
  },
  {
   "cell_type": "code",
   "execution_count": 33,
   "id": "d4c6f785",
   "metadata": {
    "slideshow": {
     "slide_type": "slide"
    }
   },
   "outputs": [
    {
     "data": {
      "image/png": "[encoded data removed]",
      "text/plain": [
       "<Figure size 720x432 with 1 Axes>"
      ]
     },
     "metadata": {
      "needs_background": "light"
     },
     "output_type": "display_data"
    }
   ],
   "source": [
    "# Geographical Analysis: Distribution of Billionaires by City of Residence\n",
    "residence_counts = df_unique_names['city_of_residence'].value_counts()\n",
    "residence_counts.plot (kind = 'line', figsize = (10, 6), marker = 'o', color = 'orange')\n",
    "plt.title('Number of Billionaire by City of Residence')\n",
    "plt.xlabel('Country')\n",
    "plt.ylabel('Number of Billionaires')\n",
    "plt.show()"
   ]
  },
  {
   "cell_type": "markdown",
   "id": "9393b851",
   "metadata": {
    "slideshow": {
     "slide_type": "subslide"
    }
   },
   "source": [
    "This line chart shows the distribution of billionaires by city of residence.<br>\n",
    "From the previous analysis we know that more than half of the cities are in the **United States**.<br>\n",
    "**New York** is home to 3 of the top 20 billionaires. Must be really nice over there.<br>\n",
    "Some states are hidden and will be shown in the next analysis."
   ]
  },
  {
   "cell_type": "code",
   "execution_count": 18,
   "id": "89b07474",
   "metadata": {
    "slideshow": {
     "slide_type": "slide"
    }
   },
   "outputs": [
    {
     "data": {
      "text/plain": [
       "New York       3\n",
       "Paris          2\n",
       "Palo Alto      2\n",
       "Hangzhou       2\n",
       "Bentonville    2\n",
       "Seattle        1\n",
       "Fort Worth     1\n",
       "Ahmedabad      1\n",
       "Austin         1\n",
       "Hunts Point    1\n",
       "Mumbai         1\n",
       "Shenzhen       1\n",
       "Los Altos      1\n",
       "Medina         1\n",
       "Woodside       1\n",
       "Wichita        1\n",
       "Mexico City    1\n",
       "La Coruna      1\n",
       "Omaha          1\n",
       "Dubai          1\n",
       "Name: city_of_residence, dtype: int64"
      ]
     },
     "execution_count": 18,
     "metadata": {},
     "output_type": "execute_result"
    }
   ],
   "source": [
    "df_unique_names['city_of_residence'].value_counts()"
   ]
  },
  {
   "cell_type": "markdown",
   "id": "20de0dc3",
   "metadata": {
    "slideshow": {
     "slide_type": "subslide"
    }
   },
   "source": [
    "All of the cities and the number of billionaires that reside in them."
   ]
  },
  {
   "cell_type": "code",
   "execution_count": 19,
   "id": "c7bbca28",
   "metadata": {
    "slideshow": {
     "slide_type": "slide"
    }
   },
   "outputs": [
    {
     "data": {
      "image/png": "[encoded data removed]",
      "text/plain": [
       "<Figure size 576x576 with 1 Axes>"
      ]
     },
     "metadata": {},
     "output_type": "display_data"
    }
   ],
   "source": [
    "# Gender Representation\n",
    "gender_counts = df_unique_names['gender'].value_counts()\n",
    "gender_counts.plot(kind = 'pie', autopct = '%1.1f%%', figsize = (8, 8))\n",
    "plt.title('Gender Distribution Among Billionaires')\n",
    "plt.show()"
   ]
  },
  {
   "cell_type": "markdown",
   "id": "e135b024",
   "metadata": {
    "slideshow": {
     "slide_type": "subslide"
    }
   },
   "source": [
    "Over the last six years there are no females in the top 5 billionaires, on the other hand in the top 20 billionaires we have three females on the list: **Alice Walton, Francoise Bettencourt Meyers & family, and Julia Koch & family.**<br>\n",
    "The males are dominating the list."
   ]
  },
  {
   "cell_type": "code",
   "execution_count": 20,
   "id": "e204961e",
   "metadata": {
    "slideshow": {
     "slide_type": "slide"
    }
   },
   "outputs": [
    {
     "data": {
      "text/plain": [
       "Male      23\n",
       "Female     3\n",
       "Name: gender, dtype: int64"
      ]
     },
     "execution_count": 20,
     "metadata": {},
     "output_type": "execute_result"
    }
   ],
   "source": [
    "df_unique_names['gender'].value_counts()"
   ]
  },
  {
   "cell_type": "markdown",
   "id": "a0010b8b",
   "metadata": {
    "slideshow": {
     "slide_type": "fragment"
    }
   },
   "source": [
    "This proves the previous statement."
   ]
  },
  {
   "cell_type": "code",
   "execution_count": 21,
   "id": "87f78370",
   "metadata": {
    "slideshow": {
     "slide_type": "slide"
    }
   },
   "outputs": [
    {
     "data": {
      "image/png": "[encoded data removed]",
      "text/plain": [
       "<Figure size 576x432 with 1 Axes>"
      ]
     },
     "metadata": {
      "needs_background": "light"
     },
     "output_type": "display_data"
    }
   ],
   "source": [
    "# Self-Made vs. Inherited Wealth\n",
    "self_made_counts = df_unique_names['self_made'].value_counts()\n",
    "self_made_counts.plot(kind='bar', figsize=(8, 6), color='green')\n",
    "plt.title('Self-Made vs. Inherited Wealth')\n",
    "plt.xlabel('Self-Made')\n",
    "plt.ylabel('Number of Billionaires')\n",
    "plt.xticks([0, 1], ['Inherited', 'Self-Made'], rotation=0)\n",
    "plt.show()\n"
   ]
  },
  {
   "cell_type": "markdown",
   "id": "ab2fea68",
   "metadata": {
    "slideshow": {
     "slide_type": "subslide"
    }
   },
   "source": [
    "A large number(17) of the top 20 billionaires over the past six years **Inherited** their wealth. That's interesting!<br>\n",
    "9 of them are **Self-Made**."
   ]
  },
  {
   "cell_type": "code",
   "execution_count": 22,
   "id": "65d9dc31",
   "metadata": {
    "slideshow": {
     "slide_type": "slide"
    }
   },
   "outputs": [
    {
     "data": {
      "text/plain": [
       "True     17\n",
       "False     9\n",
       "Name: self_made, dtype: int64"
      ]
     },
     "execution_count": 22,
     "metadata": {},
     "output_type": "execute_result"
    }
   ],
   "source": [
    "df_unique_names['self_made'].value_counts()"
   ]
  },
  {
   "cell_type": "markdown",
   "id": "b523b37a",
   "metadata": {
    "slideshow": {
     "slide_type": "fragment"
    }
   },
   "source": [
    "This shows it."
   ]
  },
  {
   "cell_type": "code",
   "execution_count": 23,
   "id": "716e67ac",
   "metadata": {
    "slideshow": {
     "slide_type": "skip"
    }
   },
   "outputs": [
    {
     "data": {
      "text/html": [
       "<div>\n",
       "<style scoped>\n",
       "    .dataframe tbody tr th:only-of-type {\n",
       "        vertical-align: middle;\n",
       "    }\n",
       "\n",
       "    .dataframe tbody tr th {\n",
       "        vertical-align: top;\n",
       "    }\n",
       "\n",
       "    .dataframe thead th {\n",
       "        text-align: right;\n",
       "    }\n",
       "</style>\n",
       "<table border=\"1\" class=\"dataframe\">\n",
       "  <thead>\n",
       "    <tr style=\"text-align: right;\">\n",
       "      <th></th>\n",
       "      <th>year</th>\n",
       "      <th>rank</th>\n",
       "      <th>net_worth(billions)</th>\n",
       "      <th>full_name</th>\n",
       "      <th>birth_date</th>\n",
       "      <th>age</th>\n",
       "      <th>gender</th>\n",
       "      <th>country_of_citizenship</th>\n",
       "      <th>country_of_residence</th>\n",
       "      <th>city_of_residence</th>\n",
       "      <th>business_category</th>\n",
       "      <th>organization_name</th>\n",
       "      <th>position_in_organization</th>\n",
       "      <th>self_made</th>\n",
       "      <th>wealth_status</th>\n",
       "    </tr>\n",
       "  </thead>\n",
       "  <tbody>\n",
       "    <tr>\n",
       "      <th>100</th>\n",
       "      <td>2023</td>\n",
       "      <td>1</td>\n",
       "      <td>211.0</td>\n",
       "      <td>Bernard Arnault &amp; family</td>\n",
       "      <td>05/03/1949</td>\n",
       "      <td>74</td>\n",
       "      <td>Male</td>\n",
       "      <td>France</td>\n",
       "      <td>France</td>\n",
       "      <td>Paris</td>\n",
       "      <td>Fashion &amp; Retail</td>\n",
       "      <td>LVMH Moet Hennessy Louis Vuitton</td>\n",
       "      <td>Chairman and CEO</td>\n",
       "      <td>False</td>\n",
       "      <td>Increased</td>\n",
       "    </tr>\n",
       "    <tr>\n",
       "      <th>101</th>\n",
       "      <td>2023</td>\n",
       "      <td>2</td>\n",
       "      <td>180.0</td>\n",
       "      <td>Elon Musk</td>\n",
       "      <td>28/06/1971</td>\n",
       "      <td>51</td>\n",
       "      <td>Male</td>\n",
       "      <td>United States</td>\n",
       "      <td>United States</td>\n",
       "      <td>Austin</td>\n",
       "      <td>Automotive</td>\n",
       "      <td>Tesla</td>\n",
       "      <td>CEO</td>\n",
       "      <td>True</td>\n",
       "      <td>Decreased</td>\n",
       "    </tr>\n",
       "    <tr>\n",
       "      <th>102</th>\n",
       "      <td>2023</td>\n",
       "      <td>3</td>\n",
       "      <td>114.0</td>\n",
       "      <td>Jeff Bezos</td>\n",
       "      <td>12/01/1964</td>\n",
       "      <td>59</td>\n",
       "      <td>Male</td>\n",
       "      <td>United States</td>\n",
       "      <td>United States</td>\n",
       "      <td>Medina</td>\n",
       "      <td>Technology</td>\n",
       "      <td>Amazon</td>\n",
       "      <td>Founder and Chairman</td>\n",
       "      <td>True</td>\n",
       "      <td>Decreased</td>\n",
       "    </tr>\n",
       "    <tr>\n",
       "      <th>103</th>\n",
       "      <td>2023</td>\n",
       "      <td>4</td>\n",
       "      <td>107.0</td>\n",
       "      <td>Larry Ellison</td>\n",
       "      <td>17/08/1944</td>\n",
       "      <td>78</td>\n",
       "      <td>Male</td>\n",
       "      <td>United States</td>\n",
       "      <td>United States</td>\n",
       "      <td>Lanai</td>\n",
       "      <td>Technology</td>\n",
       "      <td>Oracle Corp.</td>\n",
       "      <td>CTO and Founder</td>\n",
       "      <td>True</td>\n",
       "      <td>Increased</td>\n",
       "    </tr>\n",
       "    <tr>\n",
       "      <th>104</th>\n",
       "      <td>2023</td>\n",
       "      <td>5</td>\n",
       "      <td>106.0</td>\n",
       "      <td>Warren Buffett</td>\n",
       "      <td>30/08/1930</td>\n",
       "      <td>92</td>\n",
       "      <td>Male</td>\n",
       "      <td>United States</td>\n",
       "      <td>United States</td>\n",
       "      <td>Omaha</td>\n",
       "      <td>Finance &amp; Investments</td>\n",
       "      <td>Berkshire Hathaway Inc.</td>\n",
       "      <td>CEO</td>\n",
       "      <td>True</td>\n",
       "      <td>Decreased</td>\n",
       "    </tr>\n",
       "    <tr>\n",
       "      <th>105</th>\n",
       "      <td>2023</td>\n",
       "      <td>6</td>\n",
       "      <td>104.0</td>\n",
       "      <td>Bill Gates</td>\n",
       "      <td>28/10/1955</td>\n",
       "      <td>67</td>\n",
       "      <td>Male</td>\n",
       "      <td>United States</td>\n",
       "      <td>United States</td>\n",
       "      <td>Medina</td>\n",
       "      <td>Technology</td>\n",
       "      <td>Bill &amp; Melinda Gates Foundation</td>\n",
       "      <td>Cochair</td>\n",
       "      <td>True</td>\n",
       "      <td>Decreased</td>\n",
       "    </tr>\n",
       "    <tr>\n",
       "      <th>106</th>\n",
       "      <td>2023</td>\n",
       "      <td>7</td>\n",
       "      <td>94.5</td>\n",
       "      <td>Michael Bloomberg</td>\n",
       "      <td>14/02/1942</td>\n",
       "      <td>81</td>\n",
       "      <td>Male</td>\n",
       "      <td>United States</td>\n",
       "      <td>United States</td>\n",
       "      <td>New York</td>\n",
       "      <td>Media &amp; Entertainment</td>\n",
       "      <td>Bloomberg</td>\n",
       "      <td>CEO</td>\n",
       "      <td>True</td>\n",
       "      <td>Increased</td>\n",
       "    </tr>\n",
       "    <tr>\n",
       "      <th>107</th>\n",
       "      <td>2023</td>\n",
       "      <td>8</td>\n",
       "      <td>93.0</td>\n",
       "      <td>Carlos Slim Helu &amp; family</td>\n",
       "      <td>28/01/1940</td>\n",
       "      <td>83</td>\n",
       "      <td>Male</td>\n",
       "      <td>Mexico</td>\n",
       "      <td>Mexico</td>\n",
       "      <td>Mexico City</td>\n",
       "      <td>Telecom</td>\n",
       "      <td>America Movil</td>\n",
       "      <td>Honorary Chairman</td>\n",
       "      <td>True</td>\n",
       "      <td>Increased</td>\n",
       "    </tr>\n",
       "    <tr>\n",
       "      <th>108</th>\n",
       "      <td>2023</td>\n",
       "      <td>9</td>\n",
       "      <td>83.4</td>\n",
       "      <td>Mukesh Ambani</td>\n",
       "      <td>19/04/1957</td>\n",
       "      <td>65</td>\n",
       "      <td>Male</td>\n",
       "      <td>India</td>\n",
       "      <td>India</td>\n",
       "      <td>Mumbai</td>\n",
       "      <td>Diversified</td>\n",
       "      <td>Reliance Industries Ltd.</td>\n",
       "      <td>Founder and Chairman</td>\n",
       "      <td>False</td>\n",
       "      <td>Decreased</td>\n",
       "    </tr>\n",
       "    <tr>\n",
       "      <th>109</th>\n",
       "      <td>2023</td>\n",
       "      <td>10</td>\n",
       "      <td>80.7</td>\n",
       "      <td>Steve Ballmer</td>\n",
       "      <td>24/03/1956</td>\n",
       "      <td>67</td>\n",
       "      <td>Male</td>\n",
       "      <td>United States</td>\n",
       "      <td>United States</td>\n",
       "      <td>Hunts Point</td>\n",
       "      <td>Technology</td>\n",
       "      <td>Los Angeles Clippers</td>\n",
       "      <td>Owner</td>\n",
       "      <td>True</td>\n",
       "      <td>Decreased</td>\n",
       "    </tr>\n",
       "    <tr>\n",
       "      <th>110</th>\n",
       "      <td>2023</td>\n",
       "      <td>11</td>\n",
       "      <td>80.5</td>\n",
       "      <td>Francoise Bettencourt Meyers &amp; family</td>\n",
       "      <td>10/07/1953</td>\n",
       "      <td>69</td>\n",
       "      <td>Female</td>\n",
       "      <td>France</td>\n",
       "      <td>France</td>\n",
       "      <td>Paris</td>\n",
       "      <td>Fashion &amp; Retail</td>\n",
       "      <td>unknown</td>\n",
       "      <td>unknown</td>\n",
       "      <td>False</td>\n",
       "      <td>Increased</td>\n",
       "    </tr>\n",
       "    <tr>\n",
       "      <th>111</th>\n",
       "      <td>2023</td>\n",
       "      <td>12</td>\n",
       "      <td>79.2</td>\n",
       "      <td>Larry Page</td>\n",
       "      <td>26/03/1973</td>\n",
       "      <td>50</td>\n",
       "      <td>Male</td>\n",
       "      <td>United States</td>\n",
       "      <td>United States</td>\n",
       "      <td>Palo Alto</td>\n",
       "      <td>Technology</td>\n",
       "      <td>Alphabet</td>\n",
       "      <td>Cofounder and board member</td>\n",
       "      <td>True</td>\n",
       "      <td>Decreased</td>\n",
       "    </tr>\n",
       "    <tr>\n",
       "      <th>112</th>\n",
       "      <td>2023</td>\n",
       "      <td>13</td>\n",
       "      <td>77.3</td>\n",
       "      <td>Amancio Ortega</td>\n",
       "      <td>28/03/1936</td>\n",
       "      <td>87</td>\n",
       "      <td>Male</td>\n",
       "      <td>Spain</td>\n",
       "      <td>Spain</td>\n",
       "      <td>La Coruna</td>\n",
       "      <td>Fashion &amp; Retail</td>\n",
       "      <td>unknown</td>\n",
       "      <td>unknown</td>\n",
       "      <td>True</td>\n",
       "      <td>Increased</td>\n",
       "    </tr>\n",
       "    <tr>\n",
       "      <th>113</th>\n",
       "      <td>2023</td>\n",
       "      <td>14</td>\n",
       "      <td>76.0</td>\n",
       "      <td>Sergey Brin</td>\n",
       "      <td>21/08/1973</td>\n",
       "      <td>49</td>\n",
       "      <td>Male</td>\n",
       "      <td>United States</td>\n",
       "      <td>United States</td>\n",
       "      <td>Los Altos</td>\n",
       "      <td>Technology</td>\n",
       "      <td>Alphabet</td>\n",
       "      <td>Cofounder and board member</td>\n",
       "      <td>True</td>\n",
       "      <td>Decreased</td>\n",
       "    </tr>\n",
       "    <tr>\n",
       "      <th>114</th>\n",
       "      <td>2023</td>\n",
       "      <td>15</td>\n",
       "      <td>68.0</td>\n",
       "      <td>Zhong Shanshan</td>\n",
       "      <td>01/12/1954</td>\n",
       "      <td>68</td>\n",
       "      <td>Male</td>\n",
       "      <td>China</td>\n",
       "      <td>China</td>\n",
       "      <td>Hangzhou</td>\n",
       "      <td>Food &amp; Beverage</td>\n",
       "      <td>unknown</td>\n",
       "      <td>unknown</td>\n",
       "      <td>True</td>\n",
       "      <td>Increased</td>\n",
       "    </tr>\n",
       "    <tr>\n",
       "      <th>115</th>\n",
       "      <td>2023</td>\n",
       "      <td>16</td>\n",
       "      <td>64.4</td>\n",
       "      <td>Mark Zuckerberg</td>\n",
       "      <td>14/05/1984</td>\n",
       "      <td>38</td>\n",
       "      <td>Male</td>\n",
       "      <td>United States</td>\n",
       "      <td>United States</td>\n",
       "      <td>Palo Alto</td>\n",
       "      <td>Technology</td>\n",
       "      <td>Meta Platforms</td>\n",
       "      <td>Cofounder</td>\n",
       "      <td>True</td>\n",
       "      <td>Decreased</td>\n",
       "    </tr>\n",
       "    <tr>\n",
       "      <th>116</th>\n",
       "      <td>2023</td>\n",
       "      <td>17</td>\n",
       "      <td>59.0</td>\n",
       "      <td>Charles Koch</td>\n",
       "      <td>01/11/1935</td>\n",
       "      <td>87</td>\n",
       "      <td>Male</td>\n",
       "      <td>United States</td>\n",
       "      <td>United States</td>\n",
       "      <td>Wichita</td>\n",
       "      <td>Diversified</td>\n",
       "      <td>Koch Industries Inc.</td>\n",
       "      <td>Chairman and CEO</td>\n",
       "      <td>False</td>\n",
       "      <td>Decreased</td>\n",
       "    </tr>\n",
       "    <tr>\n",
       "      <th>117</th>\n",
       "      <td>2023</td>\n",
       "      <td>18</td>\n",
       "      <td>59.0</td>\n",
       "      <td>Julia Koch &amp; family</td>\n",
       "      <td>12/04/1962</td>\n",
       "      <td>60</td>\n",
       "      <td>Female</td>\n",
       "      <td>United States</td>\n",
       "      <td>United States</td>\n",
       "      <td>New York</td>\n",
       "      <td>Diversified</td>\n",
       "      <td>unknown</td>\n",
       "      <td>unknown</td>\n",
       "      <td>False</td>\n",
       "      <td>Decreased</td>\n",
       "    </tr>\n",
       "    <tr>\n",
       "      <th>118</th>\n",
       "      <td>2023</td>\n",
       "      <td>19</td>\n",
       "      <td>58.8</td>\n",
       "      <td>Jim Walton</td>\n",
       "      <td>07/06/1948</td>\n",
       "      <td>74</td>\n",
       "      <td>Male</td>\n",
       "      <td>United States</td>\n",
       "      <td>United States</td>\n",
       "      <td>Bentonville</td>\n",
       "      <td>Fashion &amp; Retail</td>\n",
       "      <td>Arvest Bank Group Inc.</td>\n",
       "      <td>Chairman and CEO</td>\n",
       "      <td>False</td>\n",
       "      <td>Decreased</td>\n",
       "    </tr>\n",
       "    <tr>\n",
       "      <th>119</th>\n",
       "      <td>2023</td>\n",
       "      <td>20</td>\n",
       "      <td>57.6</td>\n",
       "      <td>Rob Walton</td>\n",
       "      <td>27/10/1944</td>\n",
       "      <td>78</td>\n",
       "      <td>Male</td>\n",
       "      <td>United States</td>\n",
       "      <td>United States</td>\n",
       "      <td>Bentonville</td>\n",
       "      <td>Fashion &amp; Retail</td>\n",
       "      <td>Walmart Inc.</td>\n",
       "      <td>Director</td>\n",
       "      <td>False</td>\n",
       "      <td>Decreased</td>\n",
       "    </tr>\n",
       "  </tbody>\n",
       "</table>\n",
       "</div>"
      ],
      "text/plain": [
       "     year  rank  net_worth(billions)                              full_name  \\\n",
       "100  2023     1                211.0               Bernard Arnault & family   \n",
       "101  2023     2                180.0                              Elon Musk   \n",
       "102  2023     3                114.0                             Jeff Bezos   \n",
       "103  2023     4                107.0                          Larry Ellison   \n",
       "104  2023     5                106.0                         Warren Buffett   \n",
       "105  2023     6                104.0                             Bill Gates   \n",
       "106  2023     7                 94.5                      Michael Bloomberg   \n",
       "107  2023     8                 93.0              Carlos Slim Helu & family   \n",
       "108  2023     9                 83.4                          Mukesh Ambani   \n",
       "109  2023    10                 80.7                          Steve Ballmer   \n",
       "110  2023    11                 80.5  Francoise Bettencourt Meyers & family   \n",
       "111  2023    12                 79.2                             Larry Page   \n",
       "112  2023    13                 77.3                         Amancio Ortega   \n",
       "113  2023    14                 76.0                            Sergey Brin   \n",
       "114  2023    15                 68.0                         Zhong Shanshan   \n",
       "115  2023    16                 64.4                        Mark Zuckerberg   \n",
       "116  2023    17                 59.0                           Charles Koch   \n",
       "117  2023    18                 59.0                    Julia Koch & family   \n",
       "118  2023    19                 58.8                             Jim Walton   \n",
       "119  2023    20                 57.6                             Rob Walton   \n",
       "\n",
       "     birth_date  age  gender country_of_citizenship country_of_residence  \\\n",
       "100  05/03/1949   74    Male                 France               France   \n",
       "101  28/06/1971   51    Male          United States        United States   \n",
       "102  12/01/1964   59    Male          United States        United States   \n",
       "103  17/08/1944   78    Male          United States        United States   \n",
       "104  30/08/1930   92    Male          United States        United States   \n",
       "105  28/10/1955   67    Male          United States        United States   \n",
       "106  14/02/1942   81    Male          United States        United States   \n",
       "107  28/01/1940   83    Male                 Mexico               Mexico   \n",
       "108  19/04/1957   65    Male                  India                India   \n",
       "109  24/03/1956   67    Male          United States        United States   \n",
       "110  10/07/1953   69  Female                 France               France   \n",
       "111  26/03/1973   50    Male          United States        United States   \n",
       "112  28/03/1936   87    Male                  Spain                Spain   \n",
       "113  21/08/1973   49    Male          United States        United States   \n",
       "114  01/12/1954   68    Male                  China                China   \n",
       "115  14/05/1984   38    Male          United States        United States   \n",
       "116  01/11/1935   87    Male          United States        United States   \n",
       "117  12/04/1962   60  Female          United States        United States   \n",
       "118  07/06/1948   74    Male          United States        United States   \n",
       "119  27/10/1944   78    Male          United States        United States   \n",
       "\n",
       "    city_of_residence      business_category  \\\n",
       "100             Paris       Fashion & Retail   \n",
       "101            Austin             Automotive   \n",
       "102            Medina             Technology   \n",
       "103             Lanai             Technology   \n",
       "104             Omaha  Finance & Investments   \n",
       "105            Medina             Technology   \n",
       "106          New York  Media & Entertainment   \n",
       "107       Mexico City                Telecom   \n",
       "108            Mumbai            Diversified   \n",
       "109       Hunts Point             Technology   \n",
       "110             Paris       Fashion & Retail   \n",
       "111         Palo Alto             Technology   \n",
       "112         La Coruna       Fashion & Retail   \n",
       "113         Los Altos             Technology   \n",
       "114          Hangzhou        Food & Beverage   \n",
       "115         Palo Alto             Technology   \n",
       "116           Wichita            Diversified   \n",
       "117          New York            Diversified   \n",
       "118       Bentonville       Fashion & Retail   \n",
       "119       Bentonville       Fashion & Retail   \n",
       "\n",
       "                    organization_name    position_in_organization  self_made  \\\n",
       "100  LVMH Moet Hennessy Louis Vuitton            Chairman and CEO      False   \n",
       "101                             Tesla                         CEO       True   \n",
       "102                            Amazon        Founder and Chairman       True   \n",
       "103                      Oracle Corp.             CTO and Founder       True   \n",
       "104           Berkshire Hathaway Inc.                         CEO       True   \n",
       "105   Bill & Melinda Gates Foundation                     Cochair       True   \n",
       "106                         Bloomberg                         CEO       True   \n",
       "107                     America Movil           Honorary Chairman       True   \n",
       "108          Reliance Industries Ltd.        Founder and Chairman      False   \n",
       "109              Los Angeles Clippers                       Owner       True   \n",
       "110                           unknown                     unknown      False   \n",
       "111                          Alphabet  Cofounder and board member       True   \n",
       "112                           unknown                     unknown       True   \n",
       "113                          Alphabet  Cofounder and board member       True   \n",
       "114                           unknown                     unknown       True   \n",
       "115                    Meta Platforms                   Cofounder       True   \n",
       "116              Koch Industries Inc.            Chairman and CEO      False   \n",
       "117                           unknown                     unknown      False   \n",
       "118            Arvest Bank Group Inc.            Chairman and CEO      False   \n",
       "119                      Walmart Inc.                    Director      False   \n",
       "\n",
       "    wealth_status  \n",
       "100     Increased  \n",
       "101     Decreased  \n",
       "102     Decreased  \n",
       "103     Increased  \n",
       "104     Decreased  \n",
       "105     Decreased  \n",
       "106     Increased  \n",
       "107     Increased  \n",
       "108     Decreased  \n",
       "109     Decreased  \n",
       "110     Increased  \n",
       "111     Decreased  \n",
       "112     Increased  \n",
       "113     Decreased  \n",
       "114     Increased  \n",
       "115     Decreased  \n",
       "116     Decreased  \n",
       "117     Decreased  \n",
       "118     Decreased  \n",
       "119     Decreased  "
      ]
     },
     "execution_count": 23,
     "metadata": {},
     "output_type": "execute_result"
    }
   ],
   "source": [
    "# Filter the DataFrame to include only data from the year 2023\n",
    "df_2023 = df[df['year'] == 2023]\n",
    "df_2023"
   ]
  },
  {
   "cell_type": "markdown",
   "id": "8967d732",
   "metadata": {
    "slideshow": {
     "slide_type": "skip"
    }
   },
   "source": [
    "This shows the top 20 billionaires in 2023 and saves it in **df_2023**.<br>\n",
    "It will be used in the next analysis."
   ]
  },
  {
   "cell_type": "code",
   "execution_count": 24,
   "id": "9a4d69cf",
   "metadata": {
    "slideshow": {
     "slide_type": "slide"
    }
   },
   "outputs": [
    {
     "data": {
      "image/png": "[encoded data removed]",
      "text/plain": [
       "<Figure size 432x288 with 1 Axes>"
      ]
     },
     "metadata": {
      "needs_background": "light"
     },
     "output_type": "display_data"
    }
   ],
   "source": [
    "# Age and Wealth for the year 2023\n",
    "plt.scatter(df_2023['age'], df_2023['net_worth(billions)'])\n",
    "plt.title('Age vs. Net Worth of Billionaires in 2023')\n",
    "plt.xlabel('Age')\n",
    "plt.ylabel('Net Worth (in Billions)')\n",
    "plt.show()"
   ]
  },
  {
   "cell_type": "markdown",
   "id": "ae69e189",
   "metadata": {
    "slideshow": {
     "slide_type": "subslide"
    }
   },
   "source": [
    "This scatter plot depicts age and wealth analysis for the year 2023.<br><br>\n",
    "- We can talk about a few points like the highest point which is 211 billion and age 74. This point is for Bernard Arnault & family which is at the top of the list in 2023.<br>\n",
    "- Immediately next to it is the point 180 billion and age 51 years which is for Elon Musk.<br>\n",
    "- Two more worth noting is the youngest and oldest billionaire on the list.<br>\n",
    "- The youngest billionaire on the list is Mark Zuckerberg, ranking number 16 on the top 20 list, his net worth is 64.4 billion and his age is 38.<br>\n",
    "- The oldest is Warren Buffett, ranking number 5, his net worth is 106 billion and his age is 92."
   ]
  },
  {
   "cell_type": "code",
   "execution_count": 25,
   "id": "6eda9487",
   "metadata": {
    "slideshow": {
     "slide_type": "slide"
    }
   },
   "outputs": [
    {
     "data": {
      "image/png": "[encoded data removed]",
      "text/plain": [
       "<Figure size 720x432 with 1 Axes>"
      ]
     },
     "metadata": {
      "needs_background": "light"
     },
     "output_type": "display_data"
    }
   ],
   "source": [
    "# Industry Analysis\n",
    "industry_counts = df_unique_names['business_category'].value_counts()\n",
    "industry_counts.plot(kind = 'bar', figsize = (10, 6), color = 'purple')\n",
    "plt.title('Number of Billionaires by Industry')\n",
    "plt.xlabel('Industry')\n",
    "plt.ylabel('Number of Billionaires')\n",
    "plt.show()"
   ]
  },
  {
   "cell_type": "markdown",
   "id": "9e3878d7",
   "metadata": {
    "slideshow": {
     "slide_type": "subslide"
    }
   },
   "source": [
    "This shows that a large number of billionaires are in the **Technology, Fashion and Retail Industries**.<br>\n",
    "This two fields contains more than half of the billionaires.<br>\n",
    "With this we can see potential fields worth investing or building a career on."
   ]
  },
  {
   "cell_type": "code",
   "execution_count": 26,
   "id": "e1827be3",
   "metadata": {
    "slideshow": {
     "slide_type": "slide"
    }
   },
   "outputs": [
    {
     "data": {
      "text/plain": [
       "Technology               9\n",
       "Fashion & Retail         6\n",
       "Diversified              4\n",
       "Finance & Investments    2\n",
       "Telecom                  1\n",
       "Media & Entertainment    1\n",
       "Energy                   1\n",
       "Automotive               1\n",
       "Food & Beverage          1\n",
       "Name: business_category, dtype: int64"
      ]
     },
     "execution_count": 26,
     "metadata": {},
     "output_type": "execute_result"
    }
   ],
   "source": [
    "# Industry Analysis\n",
    "df_unique_names['business_category'].value_counts()"
   ]
  },
  {
   "cell_type": "markdown",
   "id": "8e55a29b",
   "metadata": {
    "slideshow": {
     "slide_type": "fragment"
    }
   },
   "source": [
    "This table show the values of the above analysis."
   ]
  },
  {
   "cell_type": "code",
   "execution_count": 27,
   "id": "7e425d0d",
   "metadata": {
    "slideshow": {
     "slide_type": "slide"
    }
   },
   "outputs": [
    {
     "data": {
      "text/plain": [
       "unknown                           6\n",
       "Chairman and CEO                  4\n",
       "Entrepreneur                      3\n",
       "CEO                               3\n",
       "Cofounder                         1\n",
       "Honorary Chairman                 1\n",
       "Executive Vice President          1\n",
       "CTO and Founder                   1\n",
       "President                         1\n",
       "Chairman                          1\n",
       "Philanthropist                    1\n",
       "Founder and Chairman              1\n",
       "Founder and Executive Chairman    1\n",
       "Owner                             1\n",
       "Name: position_in_organization, dtype: int64"
      ]
     },
     "execution_count": 27,
     "metadata": {},
     "output_type": "execute_result"
    }
   ],
   "source": [
    "# Position Analysis\n",
    "df_unique_names['position_in_organization'].value_counts()"
   ]
  },
  {
   "cell_type": "markdown",
   "id": "46dc9eaf",
   "metadata": {
    "slideshow": {
     "slide_type": "subslide"
    }
   },
   "source": [
    "There are some billionaires that their positions in their organization are unknown.<br>\n",
    "The ones know, we can see that three billionaires are **Entrepreneur**, another three are **CEO** and the last three are **Chairman and CEO**."
   ]
  },
  {
   "cell_type": "code",
   "execution_count": 28,
   "id": "ab24d1aa",
   "metadata": {
    "slideshow": {
     "slide_type": "slide"
    }
   },
   "outputs": [
    {
     "data": {
      "text/plain": [
       "unknown                                   6\n",
       "Koch Industries Inc.                      2\n",
       "Alphabet                                  2\n",
       "Amazon                                    1\n",
       "Arvest Bank Group Inc.                    1\n",
       "Los Angeles Clippers                      1\n",
       "Alibaba Group                             1\n",
       "Reliance Industries Ltd.                  1\n",
       "Tencent Holdings                          1\n",
       "Crystal Bridges Museum of American Art    1\n",
       "Walmart Inc.                              1\n",
       "Bloomberg                                 1\n",
       "Bill & Melinda Gates Foundation           1\n",
       "Oracle Corp.                              1\n",
       "America Movil                             1\n",
       "Facebook                                  1\n",
       "LVMH Moet Hennessy Louis Vuitton          1\n",
       "Berkshire Hathaway Inc.                   1\n",
       "Tesla                                     1\n",
       "Name: organization_name, dtype: int64"
      ]
     },
     "execution_count": 28,
     "metadata": {},
     "output_type": "execute_result"
    }
   ],
   "source": [
    "# Organization Name\n",
    "df_unique_names['organization_name'].value_counts()"
   ]
  },
  {
   "cell_type": "markdown",
   "id": "5ae5ed39",
   "metadata": {
    "slideshow": {
     "slide_type": "subslide"
    }
   },
   "source": [
    "This shows the name of organizations of these billionaires. We have some unknown values, from same billionaires from the previous analysis.<br>\n",
    "We can see the organizations of this billionaires. With this table, we can know where to start making research on shares and stocks for investment."
   ]
  },
  {
   "cell_type": "code",
   "execution_count": 29,
   "id": "3498c7c8",
   "metadata": {
    "slideshow": {
     "slide_type": "slide"
    }
   },
   "outputs": [
    {
     "name": "stdout",
     "output_type": "stream",
     "text": [
      "          year                 full_name  net_worth(billions)\n",
      "year                                                         \n",
      "2018 0    2018                Jeff Bezos                112.0\n",
      "2019 20   2019                Jeff Bezos                131.0\n",
      "2020 40   2020                Jeff Bezos                113.0\n",
      "2021 60   2021                Jeff Bezos                177.0\n",
      "2022 80   2022                 Elon Musk                219.0\n",
      "2023 100  2023  Bernard Arnault & family                211.0\n"
     ]
    }
   ],
   "source": [
    "# Top Billionaires\n",
    "top_billionaires = df.groupby('year').apply(lambda x: x.nlargest(1, 'net_worth(billions)'))\n",
    "print(top_billionaires[['year', 'full_name', 'net_worth(billions)']])"
   ]
  },
  {
   "cell_type": "markdown",
   "id": "109e3097",
   "metadata": {
    "slideshow": {
     "slide_type": "subslide"
    }
   },
   "source": [
    "The top billionaires from 2018 to 2023 is depicted.<br><br>\n",
    "**Jeff Bezos** topped the list from 2018 to 2021 (4 years).<br>\n",
    "**Elon Musk** has the highest Net Worth so far in 2022.<br>\n",
    "Top of the list last year is **Bernard Arnault & family.**"
   ]
  },
  {
   "cell_type": "code",
   "execution_count": 30,
   "id": "eb2faec0",
   "metadata": {
    "scrolled": false,
    "slideshow": {
     "slide_type": "slide"
    }
   },
   "outputs": [
    {
     "data": {
      "image/png": "[encoded data removed]",
      "text/plain": [
       "<Figure size 864x576 with 1 Axes>"
      ]
     },
     "metadata": {
      "needs_background": "light"
     },
     "output_type": "display_data"
    }
   ],
   "source": [
    "# Comparison Across Regions\n",
    "region_counts = df_unique_names.groupby('country_of_citizenship')['net_worth(billions)'].sum().sort_values(ascending = False)\n",
    "region_counts.plot(kind = 'barh', figsize = (12, 8), color = 'brown')\n",
    "plt.title('Total Net Worth of Billionaires by Country of Citizenship')\n",
    "plt.xlabel('Total Net Worth (in Billions)')\n",
    "plt.ylabel('Country')\n",
    "plt.show()"
   ]
  },
  {
   "cell_type": "markdown",
   "id": "e371db2b",
   "metadata": {
    "slideshow": {
     "slide_type": "subslide"
    }
   },
   "source": [
    "Comparison Across Regions<br>\n",
    "In the last six years, **United States** has over one trillion total billionaires from the top 20. That's because most of them are citizens and also reside in the U.S."
   ]
  },
  {
   "cell_type": "code",
   "execution_count": 31,
   "id": "8d984624",
   "metadata": {
    "scrolled": true,
    "slideshow": {
     "slide_type": "slide"
    }
   },
   "outputs": [
    {
     "data": {
      "text/plain": [
       "country_of_citizenship\n",
       "United States    1050.8\n",
       "China             153.2\n",
       "India             130.1\n",
       "France            114.2\n",
       "Spain              70.0\n",
       "Mexico             67.1\n",
       "Canada             65.0\n",
       "Name: net_worth(billions), dtype: float64"
      ]
     },
     "execution_count": 31,
     "metadata": {},
     "output_type": "execute_result"
    }
   ],
   "source": [
    "# Comparison Across Regions\n",
    "df_unique_names.groupby('country_of_citizenship')['net_worth(billions)'].sum().sort_values(ascending = False)"
   ]
  },
  {
   "cell_type": "markdown",
   "id": "60449842",
   "metadata": {
    "slideshow": {
     "slide_type": "fragment"
    }
   },
   "source": [
    "Same with the previous analysis above.<br>\n",
    "With this we can see that the combination of other countries or regions does not measure up to half U.S."
   ]
  },
  {
   "cell_type": "markdown",
   "id": "989c8aae",
   "metadata": {},
   "source": [
    " "
   ]
  }
 ],
 "metadata": {
  "celltoolbar": "Slideshow",
  "kernelspec": {
   "display_name": "Python 3 (ipykernel)",
   "language": "python",
   "name": "python3"
  },
  "language_info": {
   "codemirror_mode": {
    "name": "ipython",
    "version": 3
   },
   "file_extension": ".py",
   "mimetype": "text/x-python",
   "name": "python",
   "nbconvert_exporter": "python",
   "pygments_lexer": "ipython3",
   "version": "3.9.12"
  }
 },
 "nbformat": 4,
 "nbformat_minor": 5
}
